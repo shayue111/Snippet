{
 "cells": [
  {
   "cell_type": "code",
   "execution_count": 1,
   "metadata": {},
   "outputs": [],
   "source": [
    "import numpy as np\n",
    "import pandas as pd\n",
    "from multiprocessing import Pool\n",
    "from functools import partial"
   ]
  },
  {
   "cell_type": "markdown",
   "metadata": {},
   "source": [
    "假设现在有一个DataFrame，它有`100000`个样本，需要对每一个样本去进行统计。在`pandas`中一般会考虑`apply`执行，但其是串行执行的，效率很低。"
   ]
  },
  {
   "cell_type": "code",
   "execution_count": 2,
   "metadata": {},
   "outputs": [],
   "source": [
    "df = pd.DataFrame(np.random.randn(100000, 205))"
   ]
  },
  {
   "cell_type": "code",
   "execution_count": 3,
   "metadata": {},
   "outputs": [],
   "source": [
    "def calculate_mean(sample):\n",
    "    \"\"\"\n",
    "    对一个样本的所有时间步分别按步长计算区间的均值。\n",
    "\n",
    "    Args:\n",
    "        sample (pandas.Series): 一条样本\n",
    "    \"\"\"\n",
    "    # 只取前200个值\n",
    "    values = np.asarray(sample)[:-5]\n",
    "\n",
    "    # 分别保存值与列名\n",
    "    results = []\n",
    "    names = []\n",
    "\n",
    "    for step in [5, 10, 15]:\n",
    "        groups = len(values) // step\n",
    "\n",
    "        for group_id in range(groups - 1):\n",
    "            sub_values = values[group_id * step: (group_id + 1) * step]\n",
    "            results.append(np.mean(sub_values))\n",
    "            names.append('step_{}_group_{}'.format(step, group_id))\n",
    "\n",
    "    return pd.Series(results, index=names)"
   ]
  },
  {
   "cell_type": "code",
   "execution_count": 4,
   "metadata": {
    "tags": []
   },
   "outputs": [
    {
     "output_type": "stream",
     "name": "stdout",
     "text": [
      "CPU times: user 1min 16s, sys: 431 ms, total: 1min 16s\nWall time: 1min 16s\n"
     ]
    }
   ],
   "source": [
    "%%time\n",
    "results1 = df.apply(calculate_mean, axis=1)"
   ]
  },
  {
   "cell_type": "markdown",
   "metadata": {},
   "source": [
    "下面使用`multiprocessing`，将多个`100000`个样本进行分割，使用多进程并行执行，这样能大大缩短执行时间，提升效率。"
   ]
  },
  {
   "cell_type": "code",
   "execution_count": 5,
   "metadata": {},
   "outputs": [],
   "source": [
    "def parallelize(input_df, target_func, n_jobs=8):\n",
    "    \"\"\"\n",
    "    并行执行的入口。\n",
    "    \"\"\"\n",
    "    # 使用`array_split`进行切分\n",
    "    sub_dfs = np.array_split(input_df, n_jobs)\n",
    "\n",
    "    # 开启进程池\n",
    "    pool = Pool(n_jobs)\n",
    "    results = pool.map(target_func, sub_dfs)\n",
    "    pool.close()\n",
    "    pool.join()\n",
    "\n",
    "    return pd.concat(results)\n",
    " \n",
    "def run_for_sub(target_func, sub_df):\n",
    "    \"\"\"\n",
    "    为子样本集进行apply操作\n",
    "    \"\"\"\n",
    "    return sub_df.apply(target_func, axis=1)"
   ]
  },
  {
   "cell_type": "code",
   "execution_count": 6,
   "metadata": {},
   "outputs": [
    {
     "name": "stdout",
     "output_type": "stream",
     "text": [
      "CPU times: user 207 ms, sys: 192 ms, total: 399 ms\n",
      "Wall time: 18.7 s\n"
     ]
    }
   ],
   "source": [
    "%%time\n",
    "# `calculate_mean`在这里将送入`run_for_sub`作为其第一个参数。\n",
    "# 使用`partial`的好处是比较灵活，可以送入将任意函数作为参数送入`run_for_sub`。\n",
    "results2 = parallelize(df, partial(run_for_sub, calculate_mean), 4)"
   ]
  },
  {
   "cell_type": "code",
   "execution_count": 7,
   "metadata": {},
   "outputs": [],
   "source": [
    "assert (results1 == results2).all().all()"
   ]
  },
  {
   "cell_type": "markdown",
   "metadata": {},
   "source": [
    "可以看到两次结果并不存在差别，但使用并行执行时，效率得到了很大提升。"
   ]
  }
 ],
 "metadata": {
  "kernelspec": {
   "name": "python379jvsc74a57bd019c958b14dfa18c3d4da09b73f6ff22f40e5665ba1be6ec0a2662b6f52c6e0a8",
   "display_name": "Python 3.7.9 64-bit"
  },
  "language_info": {
   "codemirror_mode": {
    "name": "ipython",
    "version": 3
   },
   "file_extension": ".py",
   "mimetype": "text/x-python",
   "name": "python",
   "nbconvert_exporter": "python",
   "pygments_lexer": "ipython3",
   "version": "3.7.9"
  },
  "metadata": {
   "interpreter": {
    "hash": "19c958b14dfa18c3d4da09b73f6ff22f40e5665ba1be6ec0a2662b6f52c6e0a8"
   }
  },
  "toc": {
   "base_numbering": 1,
   "nav_menu": {},
   "number_sections": true,
   "sideBar": true,
   "skip_h1_title": false,
   "title_cell": "Table of Contents",
   "title_sidebar": "Contents",
   "toc_cell": false,
   "toc_position": {},
   "toc_section_display": true,
   "toc_window_display": false
  }
 },
 "nbformat": 4,
 "nbformat_minor": 2
}